{
 "cells": [
  {
   "cell_type": "code",
   "execution_count": 94,
   "metadata": {},
   "outputs": [],
   "source": [
    "import scipy.special\n",
    "import numpy\n",
    "import matplotlib.pyplot\n",
    "%matplotlib inline"
   ]
  },
  {
   "cell_type": "code",
   "execution_count": 95,
   "metadata": {},
   "outputs": [],
   "source": [
    "class NeuralNetwork:\n",
    "    \n",
    "    # constructor function\n",
    "    def __init__(self, input_nodes, hidden_nodes, output_nodes, learning_rate):\n",
    "        \n",
    "        # initialize the number of nodes in each layer\n",
    "        self.inodes = input_nodes\n",
    "        self.hnodes = hidden_nodes\n",
    "        self.onodes = output_nodes\n",
    "        \n",
    "        # initialize the random weights between the layers\n",
    "        self.wih = numpy.random.normal(0.0, pow(self.hnodes, -0.5), (self.hnodes, self.inodes))\n",
    "        self.who = numpy.random.normal(0.0, pow(self.onodes, -0.5), (self.onodes, self.hnodes))\n",
    "        \n",
    "        # initialize the learning rate\n",
    "        self.lr = learning_rate\n",
    "        \n",
    "        # choose the activation function\n",
    "        self.activation_function = lambda x: scipy.special.expit(x)\n",
    "        \n",
    "        pass\n",
    "    \n",
    "    # train the network\n",
    "    def train(self, inputs_list, targets_list): \n",
    "        \n",
    "        # convert list to an array then transpose to a vector\n",
    "        inputs = numpy.array(inputs_list, ndmin=2).T\n",
    "        targets = numpy.array(targets_list, ndmin=2).T\n",
    "        \n",
    "        # calculate hidden node values, then apply activation function\n",
    "        hidden_inputs = numpy.dot(self.wih, inputs)\n",
    "        hidden_outputs = self.activation_function(hidden_inputs)\n",
    "        \n",
    "        # calculate final node values, then apply activation function\n",
    "        final_inputs = numpy.dot(self.who, hidden_outputs)\n",
    "        final_outputs = self.activation_function(final_inputs)\n",
    "        \n",
    "        # output layer error (actual - prediction)\n",
    "        output_errors = targets - final_outputs\n",
    "        \n",
    "        # calculate hidden_errors by calculating error each hidden node contributed\n",
    "        hidden_errors = numpy.dot(self.who.T, output_errors)\n",
    "        \n",
    "        # update the weights between hidden and output\n",
    "        self.who += self.lr * numpy.dot((output_errors * final_outputs * (1.0 - final_outputs)), \n",
    "                                        numpy.transpose(hidden_outputs))\n",
    "        \n",
    "        # update the weights between input and hidden\n",
    "        self.wih += self.lr * numpy.dot((hidden_errors * hidden_outputs * (1.0 - hidden_outputs)),\n",
    "                                        numpy.transpose(inputs))\n",
    "        \n",
    "        pass\n",
    "    \n",
    "    \n",
    "    # predict network output\n",
    "    def query(self, inputs_list):\n",
    "        \n",
    "        # convert list to an array then transpose to a vector\n",
    "        inputs = numpy.array(inputs_list, ndmin=2).T\n",
    "        \n",
    "        # calculate hidden node values, then apply activation function\n",
    "        hidden_inputs = numpy.dot(self.wih, inputs)\n",
    "        hidden_outputs = self.activation_function(hidden_inputs)\n",
    "        \n",
    "        # calculate final node values, then apply activation function\n",
    "        final_inputs = numpy.dot(self.who, hidden_outputs)\n",
    "        final_outputs = self.activation_function(final_inputs)\n",
    "        \n",
    "        return final_outputs"
   ]
  },
  {
   "cell_type": "code",
   "execution_count": 96,
   "metadata": {},
   "outputs": [],
   "source": [
    "input_nodes = 784\n",
    "hidden_nodes = 100\n",
    "output_nodes = 10\n",
    "\n",
    "learning_rate = 0.2\n",
    "\n",
    "n = NeuralNetwork(input_nodes, hidden_nodes, output_nodes, learning_rate)"
   ]
  },
  {
   "cell_type": "code",
   "execution_count": 97,
   "metadata": {},
   "outputs": [
    {
     "data": {
      "text/plain": [
       "100"
      ]
     },
     "execution_count": 97,
     "metadata": {},
     "output_type": "execute_result"
    }
   ],
   "source": [
    "#CSV File Location: /Users/Everwitt/Desktop/mnist_train_100.csv\n",
    "\n",
    "location = \"/Users/Everwitt/Desktop/mnist_train_100.csv\"\n",
    "data_file = open(location, \"r\")\n",
    "data_list = data_file.readlines()\n",
    "data_file.close()\n",
    "\n",
    "len(data_list)"
   ]
  },
  {
   "cell_type": "code",
   "execution_count": 98,
   "metadata": {},
   "outputs": [
    {
     "data": {
      "text/plain": [
       "<matplotlib.image.AxesImage at 0x111d4d128>"
      ]
     },
     "execution_count": 98,
     "metadata": {},
     "output_type": "execute_result"
    },
    {
     "data": {
      "image/png": "[encoded data removed]",
      "text/plain": [
       "<Figure size 432x288 with 1 Axes>"
      ]
     },
     "metadata": {},
     "output_type": "display_data"
    }
   ],
   "source": [
    "# example of the data we are inputting into the neural network\n",
    "show_values = data_list[0].split(',')\n",
    "image_array = numpy.asfarray(show_values[1:]).reshape(28,28)\n",
    "matplotlib.pyplot.imshow(image_array, cmap='Greys', interpolation='None')"
   ]
  },
  {
   "cell_type": "code",
   "execution_count": 99,
   "metadata": {},
   "outputs": [],
   "source": [
    "for record in data_list:\n",
    "    \n",
    "    all_values = record.split(',')\n",
    "\n",
    "    inputs = (numpy.asfarray(all_values[1:]) / 255.0 * 0.99) + 0.01\n",
    "\n",
    "    onodes = 10\n",
    "    targets = numpy.zeros(onodes) + 0.01\n",
    "    targets[int(record[0])] = 0.99\n",
    "\n",
    "    n.train(inputs, targets)\n",
    "    \n",
    "    pass"
   ]
  },
  {
   "cell_type": "code",
   "execution_count": 100,
   "metadata": {},
   "outputs": [
    {
     "name": "stdout",
     "output_type": "stream",
     "text": [
      "7\n"
     ]
    }
   ],
   "source": [
    "# open and load test data file to now predict\n",
    "test_location = \"/Users/Everwitt/Desktop/mnist_test_10.csv\"\n",
    "test_data_file = open(test_location, \"r\")\n",
    "test_data_list = test_data_file.readlines()\n",
    "test_data_file.close()\n",
    "\n",
    "test_values = test_data_list[0].split(',')\n",
    "print(test_values[0])"
   ]
  },
  {
   "cell_type": "code",
   "execution_count": 101,
   "metadata": {},
   "outputs": [
    {
     "data": {
      "text/plain": [
       "<matplotlib.image.AxesImage at 0x111eecd30>"
      ]
     },
     "execution_count": 101,
     "metadata": {},
     "output_type": "execute_result"
    },
    {
     "data": {
      "image/png": "[encoded data removed]",
      "text/plain": [
       "<Figure size 432x288 with 1 Axes>"
      ]
     },
     "metadata": {},
     "output_type": "display_data"
    }
   ],
   "source": [
    "image_array = numpy.asfarray(test_values[1:]).reshape(28,28)\n",
    "matplotlib.pyplot.imshow(image_array, cmap='Greys', interpolation='None')"
   ]
  },
  {
   "cell_type": "code",
   "execution_count": 102,
   "metadata": {},
   "outputs": [
    {
     "data": {
      "text/plain": [
       "array([[0.10329923],\n",
       "       [0.01926554],\n",
       "       [0.08799957],\n",
       "       [0.03430214],\n",
       "       [0.03731687],\n",
       "       [0.04941119],\n",
       "       [0.00850693],\n",
       "       [0.83544319],\n",
       "       [0.08463286],\n",
       "       [0.02450084]])"
      ]
     },
     "execution_count": 102,
     "metadata": {},
     "output_type": "execute_result"
    }
   ],
   "source": [
    "# one prediction to see what the model would predict\n",
    "n.query((numpy.asfarray(test_values[1:]) / 255.0) * 0.99 + 0.01)"
   ]
  },
  {
   "cell_type": "code",
   "execution_count": 103,
   "metadata": {},
   "outputs": [
    {
     "name": "stdout",
     "output_type": "stream",
     "text": [
      "Correct Label is  7  The NN predicts  7\n",
      "Correct Label is  2  The NN predicts  0\n",
      "Correct Label is  1  The NN predicts  1\n",
      "Correct Label is  0  The NN predicts  0\n",
      "Correct Label is  4  The NN predicts  4\n",
      "Correct Label is  1  The NN predicts  1\n",
      "Correct Label is  4  The NN predicts  4\n",
      "Correct Label is  9  The NN predicts  4\n",
      "Correct Label is  5  The NN predicts  4\n",
      "Correct Label is  9  The NN predicts  7\n"
     ]
    }
   ],
   "source": [
    "scorecard = []\n",
    "\n",
    "for record in test_data_list:\n",
    "    all_values = record.split(',')\n",
    "    \n",
    "    # gets and prints the correct label associated with the image\n",
    "    correct_label = int(all_values[0])\n",
    "    \n",
    "    # predicts the outputs given input and selects the highest value of the output array\n",
    "    inputs = (numpy.asfarray(all_values[1:]) / 255.0) * 0.99 + 0.01\n",
    "    outputs = n.query(inputs)\n",
    "    \n",
    "    label = numpy.argmax(outputs)\n",
    "    print(\"Correct Label is \" , correct_label, \" The NN predicts \", label)\n",
    "    \n",
    "    # append to scorecard if correct prediction\n",
    "    if(label == correct_label):\n",
    "        scorecard.append(1)\n",
    "    else:\n",
    "        scorecard.append(0)\n",
    "        pass\n",
    "    pass\n",
    "    "
   ]
  },
  {
   "cell_type": "code",
   "execution_count": 104,
   "metadata": {},
   "outputs": [
    {
     "name": "stdout",
     "output_type": "stream",
     "text": [
      "[1, 0, 1, 1, 1, 1, 1, 0, 0, 0]\n"
     ]
    }
   ],
   "source": [
    "# could get a better scorecard by inputting more data into the traning set\n",
    "print(scorecard)"
   ]
  },
  {
   "cell_type": "code",
   "execution_count": 105,
   "metadata": {},
   "outputs": [
    {
     "name": "stdout",
     "output_type": "stream",
     "text": [
      "performance =  0.6\n"
     ]
    }
   ],
   "source": [
    "# print the percent accuracy as a measure of performace\n",
    "scorecard_array = numpy.asarray(scorecard)\n",
    "print(\"performance = \", scorecard_array.sum() / scorecard_array.size)"
   ]
  },
  {
   "cell_type": "code",
   "execution_count": 107,
   "metadata": {},
   "outputs": [],
   "source": [
    "# number of times the training set is iterated through\n",
    "epochs = 10\n",
    "for e in range(epochs):\n",
    "    for record in data_list:\n",
    "    \n",
    "        all_values = record.split(',')\n",
    "\n",
    "        inputs = (numpy.asfarray(all_values[1:]) / 255.0 * 0.99) + 0.01\n",
    "\n",
    "        onodes = 10\n",
    "        targets = numpy.zeros(onodes) + 0.01\n",
    "        targets[int(record[0])] = 0.99\n",
    "\n",
    "        n.train(inputs, targets)\n",
    "        pass\n",
    "    pass"
   ]
  },
  {
   "cell_type": "code",
   "execution_count": 108,
   "metadata": {},
   "outputs": [
    {
     "name": "stdout",
     "output_type": "stream",
     "text": [
      "Correct Label is  7  The NN predicts  7\n",
      "Correct Label is  2  The NN predicts  2\n",
      "Correct Label is  1  The NN predicts  1\n",
      "Correct Label is  0  The NN predicts  0\n",
      "Correct Label is  4  The NN predicts  4\n",
      "Correct Label is  1  The NN predicts  1\n",
      "Correct Label is  4  The NN predicts  9\n",
      "Correct Label is  9  The NN predicts  4\n",
      "Correct Label is  5  The NN predicts  4\n",
      "Correct Label is  9  The NN predicts  9\n",
      "[1, 1, 1, 1, 1, 1, 0, 0, 0, 1]\n",
      "performance =  0.7\n"
     ]
    }
   ],
   "source": [
    "scorecard = []\n",
    "\n",
    "for record in test_data_list:\n",
    "    all_values = record.split(',')\n",
    "    \n",
    "    # gets and prints the correct label associated with the image\n",
    "    correct_label = int(all_values[0])\n",
    "    \n",
    "    # predicts the outputs given input and selects the highest value of the output array\n",
    "    inputs = (numpy.asfarray(all_values[1:]) / 255.0) * 0.99 + 0.01\n",
    "    outputs = n.query(inputs)\n",
    "    \n",
    "    label = numpy.argmax(outputs)\n",
    "    print(\"Correct Label is \" , correct_label, \" The NN predicts \", label)\n",
    "    \n",
    "    # append to scorecard if correct prediction\n",
    "    if(label == correct_label):\n",
    "        scorecard.append(1)\n",
    "    else:\n",
    "        scorecard.append(0)\n",
    "        pass\n",
    "    pass\n",
    "\n",
    "# print the scorecard\n",
    "print(scorecard)\n",
    "\n",
    "# print the percent accuracy as a measure of performace\n",
    "scorecard_array = numpy.asarray(scorecard)\n",
    "print(\"performance = \", scorecard_array.sum() / scorecard_array.size)"
   ]
  }
 ],
 "metadata": {
  "kernelspec": {
   "display_name": "Python 3",
   "language": "python",
   "name": "python3"
  },
  "language_info": {
   "codemirror_mode": {
    "name": "ipython",
    "version": 3
   },
   "file_extension": ".py",
   "mimetype": "text/x-python",
   "name": "python",
   "nbconvert_exporter": "python",
   "pygments_lexer": "ipython3",
   "version": "3.6.5"
  }
 },
 "nbformat": 4,
 "nbformat_minor": 2
}
